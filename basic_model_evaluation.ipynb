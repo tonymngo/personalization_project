{
 "cells": [
  {
   "cell_type": "code",
   "execution_count": 49,
   "metadata": {
    "collapsed": true
   },
   "outputs": [],
   "source": [
    "import pandas as pd\n",
    "import numpy as np\n",
    "import random\n",
    "%matplotlib inline\n",
    "import matplotlib.pyplot as plt\n",
    "from surprise import SVD, SVDpp, NMF\n",
    "from surprise import Dataset\n",
    "from surprise import Reader\n",
    "from surprise import evaluate, print_perf\n",
    "from surprise import KNNBasic\n",
    "from surprise import AlgoBase, BaselineOnly\n",
    "from get_top_n import get_top_n\n",
    "from surprise.model_selection import GridSearchCV, train_test_split, cross_validate\n",
    "from surprise.accuracy import rmse, mae"
   ]
  },
  {
   "cell_type": "markdown",
   "metadata": {},
   "source": [
    "# Set up training & test data"
   ]
  },
  {
   "cell_type": "code",
   "execution_count": 50,
   "metadata": {
    "scrolled": true
   },
   "outputs": [
    {
     "data": {
      "text/html": [
       "<div>\n",
       "<style>\n",
       "    .dataframe thead tr:only-child th {\n",
       "        text-align: right;\n",
       "    }\n",
       "\n",
       "    .dataframe thead th {\n",
       "        text-align: left;\n",
       "    }\n",
       "\n",
       "    .dataframe tbody tr th {\n",
       "        vertical-align: top;\n",
       "    }\n",
       "</style>\n",
       "<table border=\"1\" class=\"dataframe\">\n",
       "  <thead>\n",
       "    <tr style=\"text-align: right;\">\n",
       "      <th></th>\n",
       "      <th>reviewerID</th>\n",
       "      <th>productID</th>\n",
       "      <th>rating</th>\n",
       "      <th>date</th>\n",
       "    </tr>\n",
       "  </thead>\n",
       "  <tbody>\n",
       "    <tr>\n",
       "      <th>46921</th>\n",
       "      <td>A3OXHLG6DIBRW8</td>\n",
       "      <td>B0004MTMD0</td>\n",
       "      <td>5.0</td>\n",
       "      <td>2012-10-24</td>\n",
       "    </tr>\n",
       "    <tr>\n",
       "      <th>46941</th>\n",
       "      <td>A1K31E7YNVQRIT</td>\n",
       "      <td>B0004MTMD0</td>\n",
       "      <td>5.0</td>\n",
       "      <td>2014-02-04</td>\n",
       "    </tr>\n",
       "    <tr>\n",
       "      <th>46946</th>\n",
       "      <td>A1XVQ3KHS22E3F</td>\n",
       "      <td>B0004MTMD0</td>\n",
       "      <td>4.0</td>\n",
       "      <td>2012-08-24</td>\n",
       "    </tr>\n",
       "    <tr>\n",
       "      <th>46985</th>\n",
       "      <td>A14B4MJ7KZE63B</td>\n",
       "      <td>B0004MTMD0</td>\n",
       "      <td>4.0</td>\n",
       "      <td>2014-05-17</td>\n",
       "    </tr>\n",
       "    <tr>\n",
       "      <th>47007</th>\n",
       "      <td>A1Z7Y2GMAP9SRY</td>\n",
       "      <td>B0004MTMD0</td>\n",
       "      <td>4.0</td>\n",
       "      <td>2013-03-15</td>\n",
       "    </tr>\n",
       "  </tbody>\n",
       "</table>\n",
       "</div>"
      ],
      "text/plain": [
       "           reviewerID   productID  rating        date\n",
       "46921  A3OXHLG6DIBRW8  B0004MTMD0     5.0  2012-10-24\n",
       "46941  A1K31E7YNVQRIT  B0004MTMD0     5.0  2014-02-04\n",
       "46946  A1XVQ3KHS22E3F  B0004MTMD0     4.0  2012-08-24\n",
       "46985  A14B4MJ7KZE63B  B0004MTMD0     4.0  2014-05-17\n",
       "47007  A1Z7Y2GMAP9SRY  B0004MTMD0     4.0  2013-03-15"
      ]
     },
     "execution_count": 50,
     "metadata": {},
     "output_type": "execute_result"
    }
   ],
   "source": [
    "#Load data\n",
    "dt = pd.read_csv('sample_data.csv',index_col=0)\n",
    "dt.head()"
   ]
  },
  {
   "cell_type": "code",
   "execution_count": 51,
   "metadata": {
    "collapsed": true
   },
   "outputs": [],
   "source": [
    "#Construct missing ratings we need to predict\n",
    "select_data = dt.pivot_table('rating',index=['reviewerID','productID'],dropna=False)\n",
    "select_data = select_data.loc[select_data['rating'].isnull()]\n",
    "select_data.reset_index(inplace=True)\n",
    "missing_values = select_data[['reviewerID','productID']].values"
   ]
  },
  {
   "cell_type": "code",
   "execution_count": 52,
   "metadata": {
    "collapsed": true
   },
   "outputs": [],
   "source": [
    "reader = Reader(rating_scale=(1,5))\n",
    "sdt = Dataset.load_from_df(dt[['reviewerID','productID','rating']],reader)"
   ]
  },
  {
   "cell_type": "code",
   "execution_count": 54,
   "metadata": {},
   "outputs": [],
   "source": [
    "trainset, testset = train_test_split(sdt,test_size=0.2,random_state=20)"
   ]
  },
  {
   "cell_type": "code",
   "execution_count": 59,
   "metadata": {},
   "outputs": [
    {
     "data": {
      "text/html": [
       "<div>\n",
       "<style>\n",
       "    .dataframe thead tr:only-child th {\n",
       "        text-align: right;\n",
       "    }\n",
       "\n",
       "    .dataframe thead th {\n",
       "        text-align: left;\n",
       "    }\n",
       "\n",
       "    .dataframe tbody tr th {\n",
       "        vertical-align: top;\n",
       "    }\n",
       "</style>\n",
       "<table border=\"1\" class=\"dataframe\">\n",
       "  <thead>\n",
       "    <tr style=\"text-align: right;\">\n",
       "      <th></th>\n",
       "      <th>reviewerID</th>\n",
       "      <th>productID</th>\n",
       "      <th>rating</th>\n",
       "    </tr>\n",
       "  </thead>\n",
       "  <tbody>\n",
       "    <tr>\n",
       "      <th>0</th>\n",
       "      <td>A14MSHFCXPARFS</td>\n",
       "      <td>B005XVZKGA</td>\n",
       "      <td>5.0</td>\n",
       "    </tr>\n",
       "    <tr>\n",
       "      <th>1</th>\n",
       "      <td>A1Z7Y2GMAP9SRY</td>\n",
       "      <td>B000VK3ZGA</td>\n",
       "      <td>2.0</td>\n",
       "    </tr>\n",
       "    <tr>\n",
       "      <th>2</th>\n",
       "      <td>A3HAA7H8PBVM78</td>\n",
       "      <td>B00B9AAI9S</td>\n",
       "      <td>5.0</td>\n",
       "    </tr>\n",
       "    <tr>\n",
       "      <th>3</th>\n",
       "      <td>A36K2N527TXXJN</td>\n",
       "      <td>B0041NYV8E</td>\n",
       "      <td>2.0</td>\n",
       "    </tr>\n",
       "    <tr>\n",
       "      <th>4</th>\n",
       "      <td>A2QSBOAAGW1I1H</td>\n",
       "      <td>B000VK3ZGA</td>\n",
       "      <td>3.0</td>\n",
       "    </tr>\n",
       "  </tbody>\n",
       "</table>\n",
       "</div>"
      ],
      "text/plain": [
       "       reviewerID   productID  rating\n",
       "0  A14MSHFCXPARFS  B005XVZKGA     5.0\n",
       "1  A1Z7Y2GMAP9SRY  B000VK3ZGA     2.0\n",
       "2  A3HAA7H8PBVM78  B00B9AAI9S     5.0\n",
       "3  A36K2N527TXXJN  B0041NYV8E     2.0\n",
       "4  A2QSBOAAGW1I1H  B000VK3ZGA     3.0"
      ]
     },
     "execution_count": 59,
     "metadata": {},
     "output_type": "execute_result"
    }
   ],
   "source": [
    "test_df = pd.DataFrame(testset)\n",
    "test_df.columns = ['reviewerID','productID','rating']\n",
    "test_df.head()"
   ]
  },
  {
   "cell_type": "code",
   "execution_count": 64,
   "metadata": {},
   "outputs": [],
   "source": [
    "merged = dt.merge(test_df, indicator=True, how='outer')\n",
    "trainset = Dataset.load_from_df(merged[merged['_merge'] == 'left_only'][['reviewerID','productID','rating']],reader)"
   ]
  },
  {
   "cell_type": "markdown",
   "metadata": {},
   "source": [
    "# Train Models"
   ]
  },
  {
   "cell_type": "markdown",
   "metadata": {},
   "source": [
    "## Baseline Model"
   ]
  },
  {
   "cell_type": "code",
   "execution_count": 67,
   "metadata": {
    "collapsed": true
   },
   "outputs": [],
   "source": [
    "#Baseline model: User's bias & item's bias\n",
    "class BaselineModel(AlgoBase):\n",
    "\n",
    "    def __init__(self):\n",
    "        AlgoBase.__init__(self)\n",
    "\n",
    "    def compute_bias(self):\n",
    "        bu = np.zeros(self.trainset.n_users)\n",
    "        bi = np.zeros(self.trainset.n_items)\n",
    "        global_mean = self.trainset.global_mean\n",
    "        \n",
    "        for i in self.trainset.all_items():\n",
    "            dev_i = 0\n",
    "            for (u, r) in self.trainset.ir[i]:\n",
    "                dev_i += r - global_mean\n",
    "            bi[i] = dev_i/(len(self.trainset.ir[i]))\n",
    "        \n",
    "        for u in self.trainset.all_users():\n",
    "            dev_u = 0\n",
    "            for (i, r) in self.trainset.ur[u]:\n",
    "                dev_u += r - global_mean\n",
    "            bu[u] = dev_u/(len(self.trainset.ur[u]))\n",
    "        return bu, bi\n",
    "    \n",
    "    def fit(self, trainset):\n",
    "        AlgoBase.fit(self, trainset)\n",
    "        self.bu, self.bi = self.compute_bias()\n",
    "\n",
    "    def estimate(self, u, i):\n",
    "        est = self.trainset.global_mean\n",
    "        if self.trainset.knows_user(u):\n",
    "            est += self.bu[u]\n",
    "        if self.trainset.knows_item(i):\n",
    "            est += self.bi[i]\n",
    "        return est\n",
    "\n",
    "algo1 = BaselineModel()"
   ]
  },
  {
   "cell_type": "code",
   "execution_count": 72,
   "metadata": {
    "scrolled": true
   },
   "outputs": [
    {
     "name": "stdout",
     "output_type": "stream",
     "text": [
      "Evaluating RMSE, MAE of algorithm BaselineModel on 5 split(s).\n",
      "\n",
      "                  Fold 1  Fold 2  Fold 3  Fold 4  Fold 5  Mean    Std     \n",
      "RMSE (testset)    1.0693  1.0473  1.0492  1.0318  1.0639  1.0523  0.0133  \n",
      "MAE (testset)     0.8207  0.8027  0.8011  0.7924  0.8068  0.8047  0.0093  \n",
      "Fit time          0.01    0.01    0.01    0.01    0.01    0.01    0.00    \n",
      "Test time         0.01    0.02    0.01    0.01    0.01    0.01    0.00    \n"
     ]
    },
    {
     "data": {
      "text/plain": [
       "{'fit_time': (0.0069425106048583984,\n",
       "  0.005530595779418945,\n",
       "  0.008042573928833008,\n",
       "  0.007688283920288086,\n",
       "  0.007315158843994141),\n",
       " 'test_mae': array([ 0.82067814,  0.80268038,  0.80105823,  0.79238046,  0.80678307]),\n",
       " 'test_rmse': array([ 1.06930759,  1.04734314,  1.04916014,  1.03179912,  1.06387034]),\n",
       " 'test_time': (0.00797891616821289,\n",
       "  0.019609451293945312,\n",
       "  0.013073444366455078,\n",
       "  0.012985706329345703,\n",
       "  0.009579658508300781)}"
      ]
     },
     "execution_count": 72,
     "metadata": {},
     "output_type": "execute_result"
    }
   ],
   "source": [
    "#Train using baseline model and test on testset\n",
    "cross_validate(algo1,trainset,measures=['RMSE','MAE'],verbose=1)"
   ]
  },
  {
   "cell_type": "markdown",
   "metadata": {},
   "source": [
    "## Model-based Collaborative Filtering"
   ]
  },
  {
   "cell_type": "code",
   "execution_count": 74,
   "metadata": {},
   "outputs": [
    {
     "name": "stdout",
     "output_type": "stream",
     "text": [
      "Evaluating RMSE, MAE of algorithm SVD on 5 split(s).\n",
      "\n",
      "                  Fold 1  Fold 2  Fold 3  Fold 4  Fold 5  Mean    Std     \n",
      "RMSE (testset)    1.0003  0.9717  0.9827  0.9872  0.9620  0.9808  0.0131  \n",
      "MAE (testset)     0.8005  0.7639  0.7739  0.7739  0.7638  0.7752  0.0134  \n",
      "Fit time          0.52    0.52    0.53    0.52    0.31    0.48    0.09    \n",
      "Test time         0.03    0.02    0.02    0.02    0.01    0.02    0.01    \n"
     ]
    },
    {
     "data": {
      "text/plain": [
       "{'fit_time': (0.520179271697998,\n",
       "  0.5192575454711914,\n",
       "  0.5313317775726318,\n",
       "  0.5166738033294678,\n",
       "  0.30877065658569336),\n",
       " 'test_mae': array([ 0.80049529,  0.76387528,  0.77394335,  0.77390441,  0.76382835]),\n",
       " 'test_rmse': array([ 1.00028442,  0.97170039,  0.98272254,  0.98715191,  0.96199569]),\n",
       " 'test_time': (0.026485681533813477,\n",
       "  0.018795490264892578,\n",
       "  0.01836228370666504,\n",
       "  0.01898789405822754,\n",
       "  0.008472204208374023)}"
      ]
     },
     "execution_count": 74,
     "metadata": {},
     "output_type": "execute_result"
    }
   ],
   "source": [
    "#SVD\n",
    "algo2 = SVD()\n",
    "cross_validate(algo2,trainset,measures=['RMSE','MAE'], verbose= True)"
   ]
  },
  {
   "cell_type": "markdown",
   "metadata": {},
   "source": [
    "#### Grid-searching hyper-parameters"
   ]
  },
  {
   "cell_type": "code",
   "execution_count": 79,
   "metadata": {
    "collapsed": true
   },
   "outputs": [],
   "source": [
    "#Setting different values for the hyperparameters\n",
    "param_grid = {'n_factors':[90,100,110,120], 'lr_all': [0.003,0.004,0.005],\n",
    "              'reg_all': [0.06,0.07,0.08]}"
   ]
  },
  {
   "cell_type": "code",
   "execution_count": 81,
   "metadata": {},
   "outputs": [],
   "source": [
    "grid_search = GridSearchCV(SVD, param_grid, measures=['RMSE','MAE'],cv=3)\n",
    "grid_search.fit(trainset)"
   ]
  },
  {
   "cell_type": "code",
   "execution_count": 83,
   "metadata": {},
   "outputs": [
    {
     "data": {
      "text/plain": [
       "{'mae': 0.77357077495765203, 'rmse': 0.97603688284646928}"
      ]
     },
     "execution_count": 83,
     "metadata": {},
     "output_type": "execute_result"
    }
   ],
   "source": [
    "grid_search.best_score"
   ]
  },
  {
   "cell_type": "code",
   "execution_count": 84,
   "metadata": {},
   "outputs": [
    {
     "data": {
      "text/plain": [
       "{'mae': {'lr_all': 0.005, 'n_factors': 100, 'reg_all': 0.06},\n",
       " 'rmse': {'lr_all': 0.005, 'n_factors': 100, 'reg_all': 0.06}}"
      ]
     },
     "execution_count": 84,
     "metadata": {},
     "output_type": "execute_result"
    }
   ],
   "source": [
    "grid_search.best_params"
   ]
  },
  {
   "cell_type": "markdown",
   "metadata": {},
   "source": [
    "#Effect of Hyperparameters on Accuracy (RMSE) of the Model"
   ]
  },
  {
   "cell_type": "code",
   "execution_count": 85,
   "metadata": {
    "collapsed": true
   },
   "outputs": [],
   "source": [
    "# Hyperparameter :- Latent Factors"
   ]
  },
  {
   "cell_type": "code",
   "execution_count": 88,
   "metadata": {},
   "outputs": [],
   "source": [
    "param_grid_factor = {'n_factors':[80,90,100,110,120,130]}\n",
    "grid_search_factor = GridSearchCV(SVD, param_grid_factor, measures=['RMSE','MAE'],cv=3)\n",
    "grid_search_factor.fit(trainset)"
   ]
  },
  {
   "cell_type": "code",
   "execution_count": 94,
   "metadata": {},
   "outputs": [
    {
     "data": {
      "text/plain": [
       "{'mean_fit_time': array([ 0.4042391 ,  0.41179323,  0.47682969,  0.4924407 ,  0.50511503,\n",
       "         0.46406269]),\n",
       " 'mean_test_mae': array([ 0.78022743,  0.77914948,  0.78091705,  0.77645614,  0.78283748,\n",
       "         0.7834829 ]),\n",
       " 'mean_test_rmse': array([ 0.98383856,  0.98177342,  0.98544486,  0.98168339,  0.98862245,\n",
       "         0.9905214 ]),\n",
       " 'mean_test_time': array([ 0.02897938,  0.03007452,  0.02823671,  0.02838691,  0.02830275,\n",
       "         0.01602403]),\n",
       " 'param_n_factors': [80, 90, 100, 110, 120, 130],\n",
       " 'params': [{'n_factors': 80},\n",
       "  {'n_factors': 90},\n",
       "  {'n_factors': 100},\n",
       "  {'n_factors': 110},\n",
       "  {'n_factors': 120},\n",
       "  {'n_factors': 130}],\n",
       " 'rank_test_mae': array([3, 2, 4, 1, 5, 6]),\n",
       " 'rank_test_rmse': array([3, 2, 4, 1, 5, 6]),\n",
       " 'split0_test_mae': array([ 0.77990536,  0.78211892,  0.78219136,  0.77526789,  0.78601612,\n",
       "         0.78496845]),\n",
       " 'split0_test_rmse': array([ 0.97488591,  0.97559685,  0.98017888,  0.97193675,  0.98199601,\n",
       "         0.98669713]),\n",
       " 'split1_test_mae': array([ 0.77218887,  0.76861317,  0.77111593,  0.76684323,  0.77769616,\n",
       "         0.77171654]),\n",
       " 'split1_test_rmse': array([ 0.98455313,  0.97978987,  0.9799637 ,  0.98170185,  0.99102257,\n",
       "         0.98360807]),\n",
       " 'split2_test_mae': array([ 0.78858807,  0.78671634,  0.78944385,  0.78725731,  0.78480016,\n",
       "         0.79376371]),\n",
       " 'split2_test_rmse': array([ 0.99207664,  0.98993355,  0.99619199,  0.99141155,  0.99284876,\n",
       "         1.00125899]),\n",
       " 'std_fit_time': array([ 0.03569944,  0.00854806,  0.03487153,  0.03709732,  0.00988522,\n",
       "         0.04614213]),\n",
       " 'std_test_mae': array([ 0.00669882,  0.00768307,  0.0075364 ,  0.00837626,  0.0036692 ,\n",
       "         0.00906181]),\n",
       " 'std_test_rmse': array([ 0.00703625,  0.00601864,  0.00759988,  0.00795057,  0.00474454,\n",
       "         0.00769664]),\n",
       " 'std_test_time': array([ 0.00022179,  0.00550247,  0.00404995,  0.00372221,  0.00282062,\n",
       "         0.00229036])}"
      ]
     },
     "execution_count": 94,
     "metadata": {},
     "output_type": "execute_result"
    }
   ],
   "source": [
    "grid_factor_results = grid_search_factor.cv_results\n",
    "grid_factor_results"
   ]
  },
  {
   "cell_type": "code",
   "execution_count": 98,
   "metadata": {},
   "outputs": [
    {
     "data": {
      "text/plain": [
       "Text(0.5,1,'Effect of Latent Factors on Accuracy of the model')"
      ]
     },
     "execution_count": 98,
     "metadata": {},
     "output_type": "execute_result"
    },
    {
     "data": {
      "image/png": "[encoded data removed]",
      "text/plain": [
       "<matplotlib.figure.Figure at 0x7f3d1445f630>"
      ]
     },
     "metadata": {},
     "output_type": "display_data"
    },
    {
     "data": {
      "image/png": "[encoded data removed]",
      "text/plain": [
       "<matplotlib.figure.Figure at 0x7f3d1467b208>"
      ]
     },
     "metadata": {},
     "output_type": "display_data"
    }
   ],
   "source": [
    "plt.figure(figsize=(10,6))\n",
    "plt.subplot(2,1,1)\n",
    "plt.plot(param_grid_factor['n_factors'],grid_factor_results['mean_test_rmse'],'r--')\n",
    "plt.xlabel('Latent Factors')\n",
    "plt.ylabel('RMSE')\n",
    "plt.title('Effect of Latent Factors on Accuracy of the model')\n",
    "plt.figure(figsize=(10,6))\n",
    "plt.subplot(2,1,2)\n",
    "plt.plot(param_grid_factor['n_factors'],grid_factor_results['mean_test_mae'],'g--')\n",
    "plt.xlabel('Latent Factors')\n",
    "plt.ylabel('MAE')\n",
    "plt.title('Effect of Latent Factors on Accuracy of the model')\n"
   ]
  },
  {
   "cell_type": "code",
   "execution_count": 101,
   "metadata": {},
   "outputs": [
    {
     "data": {
      "text/plain": [
       "{'mean_fit_time': array([ 0.1161449 ,  0.22441824,  0.32670069,  0.43446859,  0.53849037,\n",
       "         0.55040161,  0.69216084]),\n",
       " 'mean_test_mae': array([ 0.80122851,  0.78487631,  0.77871453,  0.77851489,  0.77840865,\n",
       "         0.77969984,  0.78233854]),\n",
       " 'mean_test_rmse': array([ 1.00258199,  0.98796027,  0.98352713,  0.98342985,  0.98649362,\n",
       "         0.98752014,  0.9942491 ]),\n",
       " 'mean_test_time': array([ 0.02705097,  0.02607059,  0.02557532,  0.02564764,  0.02545222,\n",
       "         0.02502751,  0.02157958]),\n",
       " 'param_n_epochs': [5, 10, 15, 20, 25, 30, 35],\n",
       " 'params': [{'n_epochs': 5},\n",
       "  {'n_epochs': 10},\n",
       "  {'n_epochs': 15},\n",
       "  {'n_epochs': 20},\n",
       "  {'n_epochs': 25},\n",
       "  {'n_epochs': 30},\n",
       "  {'n_epochs': 35}],\n",
       " 'rank_test_mae': array([7, 6, 3, 2, 1, 4, 5]),\n",
       " 'rank_test_rmse': array([7, 5, 2, 1, 3, 4, 6]),\n",
       " 'split0_test_mae': array([ 0.80110007,  0.78644357,  0.77944053,  0.77681701,  0.77783443,\n",
       "         0.77856804,  0.78392313]),\n",
       " 'split0_test_rmse': array([ 1.00167902,  0.98855986,  0.98376177,  0.97965301,  0.98578549,\n",
       "         0.98423378,  0.994395  ]),\n",
       " 'split1_test_mae': array([ 0.79646256,  0.77627171,  0.76974982,  0.77107979,  0.77164254,\n",
       "         0.76970097,  0.77093507]),\n",
       " 'split1_test_rmse': array([ 0.99611507,  0.97632805,  0.97185202,  0.97297059,  0.97506826,\n",
       "         0.97552722,  0.98186325]),\n",
       " 'split2_test_mae': array([ 0.80612289,  0.79191365,  0.78695326,  0.78764787,  0.78574898,\n",
       "         0.79083049,  0.79215743]),\n",
       " 'split2_test_rmse': array([ 1.00995189,  0.9989929 ,  0.99496759,  0.99766596,  0.99862711,\n",
       "         1.00279941,  1.00648907]),\n",
       " 'std_fit_time': array([ 0.00075949,  0.00255168,  0.00199991,  0.00691735,  0.00259647,\n",
       "         0.12563495,  0.10952979]),\n",
       " 'std_test_mae': array([ 0.00394486,  0.00648125,  0.00704201,  0.00686961,  0.00577322,\n",
       "         0.00866314,  0.00873614]),\n",
       " 'std_test_rmse': array([ 0.00568483,  0.0092626 ,  0.00943835,  0.01042956,  0.00963089,\n",
       "         0.01137375,  0.01005398]),\n",
       " 'std_test_time': array([  2.52841826e-04,   3.35256256e-04,   8.46240056e-05,\n",
       "          1.44436801e-04,   1.84405773e-04,   2.68636281e-03,\n",
       "          5.35643852e-03])}"
      ]
     },
     "execution_count": 101,
     "metadata": {},
     "output_type": "execute_result"
    }
   ],
   "source": [
    "param_grid_n_epoch = {'n_epochs':[5,10,15,20,25,30,35]}\n",
    "grid_search_n_epoch = GridSearchCV(SVD, param_grid_n_epoch, measures=['RMSE','MAE'],cv=3)\n",
    "grid_search_n_epoch.fit(trainset)\n",
    "cv_results = grid_search_n_epoch.cv_results\n",
    "cv_results"
   ]
  },
  {
   "cell_type": "code",
   "execution_count": 105,
   "metadata": {},
   "outputs": [
    {
     "data": {
      "text/plain": [
       "Text(0.5,1,'Effect of no. of SGD iterations on Accuracy of the model')"
      ]
     },
     "execution_count": 105,
     "metadata": {},
     "output_type": "execute_result"
    },
    {
     "data": {
      "image/png": "[encoded data removed]",
      "text/plain": [
       "<matplotlib.figure.Figure at 0x7f3d064bc438>"
      ]
     },
     "metadata": {},
     "output_type": "display_data"
    },
    {
     "data": {
      "image/png": "[encoded data removed]",
      "text/plain": [
       "<matplotlib.figure.Figure at 0x7f3d06295f60>"
      ]
     },
     "metadata": {},
     "output_type": "display_data"
    }
   ],
   "source": [
    "plt.figure(figsize=(10,6))\n",
    "plt.subplot(2,1,1)\n",
    "plt.plot(param_grid_n_epoch['n_epochs'],cv_results['mean_test_rmse'],'r--')\n",
    "plt.xlabel('Stochastic Gradient Descent method iterations')\n",
    "plt.ylabel('RMSE')\n",
    "plt.title('Effect of no. of SGD iterations on Accuracy of the model')\n",
    "plt.figure(figsize=(10,6))\n",
    "plt.subplot(2,1,1)\n",
    "plt.plot(param_grid_n_epoch['n_epochs'],cv_results['mean_test_mae'],'g--')\n",
    "plt.xlabel('Stochastic Gradient Descent method iterations')\n",
    "plt.ylabel('MAE')\n",
    "plt.title('Effect of no. of SGD iterations on Accuracy of the model')"
   ]
  },
  {
   "cell_type": "code",
   "execution_count": null,
   "metadata": {},
   "outputs": [],
   "source": [
    "param_grid_lr = {'lr_all': [0.001,0.002,0.003,0.004,0.005]}\n",
    "grid_search_lr = GridSearch(SVD, param_grid_lr, measures=['RMSE','MAE'])\n",
    "grid_search_lr.evaluate(dt)\n",
    "results_df = pd.DataFrame.from_dict(grid_search_lr.cv_results)\n",
    "rm=[]\n",
    "rm=results_df['RMSE']\n",
    "mae_svd=[]\n",
    "for d in grid_search_lr.cv_results['scores']:\n",
    "    mae_svd.append(d['MAE'])\n",
    "n_ep=[]\n",
    "n_ep=results_df['lr_all']"
   ]
  },
  {
   "cell_type": "code",
   "execution_count": null,
   "metadata": {},
   "outputs": [],
   "source": [
    "plt.figure(figsize=(10,6))\n",
    "plt.subplot(2,1,1)\n",
    "plt.plot(n_ep,rm,'r--')\n",
    "plt.xlabel('Learning Rate')\n",
    "plt.ylabel('RMSE')\n",
    "plt.title('Effect of Learning Rate on Accuracy of the model')\n",
    "plt.figure(figsize=(10,6))\n",
    "plt.subplot(2,1,1)\n",
    "plt.plot(n_ep,mae_svd,'g--')\n",
    "plt.xlabel('Learning Rate')\n",
    "plt.ylabel('MAE')\n",
    "plt.title('Effect of Learning Rate on Accuracy of the model')"
   ]
  },
  {
   "cell_type": "markdown",
   "metadata": {},
   "source": [
    "## KNN Collaborative Filtering"
   ]
  },
  {
   "cell_type": "code",
   "execution_count": 106,
   "metadata": {
    "collapsed": true
   },
   "outputs": [],
   "source": [
    "## define algorithm config\n",
    "algo_name = KNNBasic ##  KNNWithMeans,KNNBaseline\n",
    "sim_option={'name': 'cosine', ## cosine, msd, pearson, personbaseline\n",
    "                 'user_based': 'False', ## False for item-based\n",
    "                 'min_surpport':0 }##  if |Iuv|<min_support then sim(u,v)=0\n",
    "max_k = 10 ## The (max) number of neighbors to take into account for aggregation\n",
    "min_k = 7 ##  If there are not enough neighbors, the prediction is set the the global mean of all ratings"
   ]
  },
  {
   "cell_type": "code",
   "execution_count": 107,
   "metadata": {
    "collapsed": true
   },
   "outputs": [],
   "source": [
    "knn_default = algo_name(k = max_k, min_k = min_k, sim_options=sim_option)"
   ]
  },
  {
   "cell_type": "code",
   "execution_count": 110,
   "metadata": {},
   "outputs": [
    {
     "name": "stdout",
     "output_type": "stream",
     "text": [
      "Computing the cosine similarity matrix...\n",
      "Computing the cosine similarity matrix...\n",
      "Computing the cosine similarity matrix...\n",
      "Computing the cosine similarity matrix...\n",
      "Done computing similarity matrix.\n",
      "Done computing similarity matrix.\n",
      "Done computing similarity matrix.\n",
      "Done computing similarity matrix.\n",
      "Computing the cosine similarity matrix...\n",
      "Done computing similarity matrix.\n",
      "Evaluating RMSE, MAE of algorithm KNNBasic on 5 split(s).\n",
      "\n",
      "                  Fold 1  Fold 2  Fold 3  Fold 4  Fold 5  Mean    Std     \n",
      "RMSE (testset)    1.0417  1.0558  1.0268  1.0305  1.0443  1.0398  0.0104  \n",
      "MAE (testset)     0.8257  0.8442  0.8057  0.8222  0.8298  0.8255  0.0124  \n",
      "Fit time          0.83    0.79    0.82    0.76    0.41    0.72    0.16    \n",
      "Test time         0.25    0.24    0.24    0.29    0.12    0.23    0.06    \n"
     ]
    }
   ],
   "source": [
    "#Train model\n",
    "perf = cross_validate(knn_default, trainset, measures=['RMSE','MAE'], verbose= 1)"
   ]
  },
  {
   "cell_type": "markdown",
   "metadata": {},
   "source": [
    "#### Changing hyper-paramater of KNN"
   ]
  },
  {
   "cell_type": "code",
   "execution_count": 115,
   "metadata": {
    "collapsed": true
   },
   "outputs": [],
   "source": [
    "algo_name = KNNBasic\n",
    "#Define the different hyper-paramter range\n",
    "grid_param = {'k':[5,10,20],\n",
    "             'min_k':[5,6,7,8],\n",
    "             'sim_options':{'name':['msd','cosine','pearson'],\n",
    "                           'min_surpport':[0,3,5],\n",
    "                           'user_based':[False]}\n",
    "             }"
   ]
  },
  {
   "cell_type": "code",
   "execution_count": 120,
   "metadata": {},
   "outputs": [],
   "source": [
    "%%capture\n",
    "grid_search = GridSearchCV(algo_name, grid_param, measures=['RMSE', 'MAE'],cv=3);\n",
    "grid_search.fit(trainset);\n",
    "cv_results = grid_search.cv_results"
   ]
  },
  {
   "cell_type": "code",
   "execution_count": 122,
   "metadata": {},
   "outputs": [
    {
     "data": {
      "text/plain": [
       "{'mae': 0.83906233507951156, 'rmse': 1.0616663064943952}"
      ]
     },
     "execution_count": 122,
     "metadata": {},
     "output_type": "execute_result"
    }
   ],
   "source": [
    "grid_search.best_score"
   ]
  },
  {
   "cell_type": "code",
   "execution_count": 123,
   "metadata": {},
   "outputs": [
    {
     "data": {
      "text/plain": [
       "{'mae': {'k': 10,\n",
       "  'min_k': 8,\n",
       "  'sim_options': {'min_surpport': 0, 'name': 'msd', 'user_based': False}},\n",
       " 'rmse': {'k': 10,\n",
       "  'min_k': 8,\n",
       "  'sim_options': {'min_surpport': 0, 'name': 'msd', 'user_based': False}}}"
      ]
     },
     "execution_count": 123,
     "metadata": {},
     "output_type": "execute_result"
    }
   ],
   "source": [
    "grid_search.best_params"
   ]
  },
  {
   "cell_type": "code",
   "execution_count": null,
   "metadata": {
    "collapsed": true
   },
   "outputs": [],
   "source": [
    "### get the result of different hyper-parameter"
   ]
  },
  {
   "cell_type": "code",
   "execution_count": 126,
   "metadata": {},
   "outputs": [
    {
     "data": {
      "text/plain": [
       "array(['mean_fit_time', 'mean_test_mae', 'mean_test_rmse',\n",
       "       'mean_test_time', 'param_k', 'param_min_k', 'param_sim_options',\n",
       "       'params', 'rank_test_mae', 'rank_test_rmse', 'split0_test_mae',\n",
       "       'split0_test_rmse', 'split1_test_mae', 'split1_test_rmse',\n",
       "       'split2_test_mae', 'split2_test_rmse', 'std_fit_time',\n",
       "       'std_test_mae', 'std_test_rmse', 'std_test_time'], dtype=object)"
      ]
     },
     "execution_count": 126,
     "metadata": {},
     "output_type": "execute_result"
    }
   ],
   "source": [
    "results_df.columns.values"
   ]
  },
  {
   "cell_type": "code",
   "execution_count": 127,
   "metadata": {},
   "outputs": [
    {
     "data": {
      "text/html": [
       "<div>\n",
       "<style>\n",
       "    .dataframe thead tr:only-child th {\n",
       "        text-align: right;\n",
       "    }\n",
       "\n",
       "    .dataframe thead th {\n",
       "        text-align: left;\n",
       "    }\n",
       "\n",
       "    .dataframe tbody tr th {\n",
       "        vertical-align: top;\n",
       "    }\n",
       "</style>\n",
       "<table border=\"1\" class=\"dataframe\">\n",
       "  <thead>\n",
       "    <tr style=\"text-align: right;\">\n",
       "      <th></th>\n",
       "      <th>mean_test_mae</th>\n",
       "      <th>mean_test_rmse</th>\n",
       "      <th>param_k</th>\n",
       "      <th>param_min_k</th>\n",
       "      <th>sim_matric</th>\n",
       "      <th>min_support</th>\n",
       "    </tr>\n",
       "  </thead>\n",
       "  <tbody>\n",
       "    <tr>\n",
       "      <th>0</th>\n",
       "      <td>0.850990</td>\n",
       "      <td>1.082520</td>\n",
       "      <td>5</td>\n",
       "      <td>5</td>\n",
       "      <td>msd</td>\n",
       "      <td>0</td>\n",
       "    </tr>\n",
       "    <tr>\n",
       "      <th>1</th>\n",
       "      <td>0.850990</td>\n",
       "      <td>1.082520</td>\n",
       "      <td>5</td>\n",
       "      <td>5</td>\n",
       "      <td>msd</td>\n",
       "      <td>3</td>\n",
       "    </tr>\n",
       "    <tr>\n",
       "      <th>2</th>\n",
       "      <td>0.850990</td>\n",
       "      <td>1.082520</td>\n",
       "      <td>5</td>\n",
       "      <td>5</td>\n",
       "      <td>msd</td>\n",
       "      <td>5</td>\n",
       "    </tr>\n",
       "    <tr>\n",
       "      <th>3</th>\n",
       "      <td>0.862696</td>\n",
       "      <td>1.101631</td>\n",
       "      <td>5</td>\n",
       "      <td>5</td>\n",
       "      <td>cosine</td>\n",
       "      <td>0</td>\n",
       "    </tr>\n",
       "    <tr>\n",
       "      <th>4</th>\n",
       "      <td>0.862696</td>\n",
       "      <td>1.101631</td>\n",
       "      <td>5</td>\n",
       "      <td>5</td>\n",
       "      <td>cosine</td>\n",
       "      <td>3</td>\n",
       "    </tr>\n",
       "  </tbody>\n",
       "</table>\n",
       "</div>"
      ],
      "text/plain": [
       "   mean_test_mae  mean_test_rmse  param_k  param_min_k sim_matric  min_support\n",
       "0       0.850990        1.082520        5            5        msd            0\n",
       "1       0.850990        1.082520        5            5        msd            3\n",
       "2       0.850990        1.082520        5            5        msd            5\n",
       "3       0.862696        1.101631        5            5     cosine            0\n",
       "4       0.862696        1.101631        5            5     cosine            3"
      ]
     },
     "execution_count": 127,
     "metadata": {},
     "output_type": "execute_result"
    }
   ],
   "source": [
    "#\n",
    "results_df = pd.DataFrame.from_dict(grid_search.cv_results)\n",
    "plotdata = results_df.loc[:,['mean_test_mae','mean_test_rmse','param_k','param_min_k']]\n",
    "name_list = []\n",
    "min_surppot_list = []\n",
    "for param in results_df.params:\n",
    "#     print(param)\n",
    "    name_list.append(param['sim_options']['name'])\n",
    "    min_surppot_list.append(param['sim_options']['min_surpport'])\n",
    "    \n",
    "name_list = pd.Series(name_list)\n",
    "min_surppot_list = pd.Series(min_surppot_list)\n",
    "\n",
    "plotdata['sim_matric'] = name_list\n",
    "plotdata['min_support'] = min_surppot_list\n",
    "plotdata.head()"
   ]
  },
  {
   "cell_type": "code",
   "execution_count": 129,
   "metadata": {},
   "outputs": [
    {
     "data": {
      "text/html": [
       "<div>\n",
       "<style>\n",
       "    .dataframe thead tr:only-child th {\n",
       "        text-align: right;\n",
       "    }\n",
       "\n",
       "    .dataframe thead th {\n",
       "        text-align: left;\n",
       "    }\n",
       "\n",
       "    .dataframe tbody tr th {\n",
       "        vertical-align: top;\n",
       "    }\n",
       "</style>\n",
       "<table border=\"1\" class=\"dataframe\">\n",
       "  <thead>\n",
       "    <tr style=\"text-align: right;\">\n",
       "      <th></th>\n",
       "      <th>mean_test_mae</th>\n",
       "      <th>mean_test_rmse</th>\n",
       "      <th>param_k</th>\n",
       "      <th>param_min_k</th>\n",
       "      <th>sim_matric</th>\n",
       "      <th>min_support</th>\n",
       "    </tr>\n",
       "  </thead>\n",
       "  <tbody>\n",
       "    <tr>\n",
       "      <th>21</th>\n",
       "      <td>0.864359</td>\n",
       "      <td>1.083793</td>\n",
       "      <td>5</td>\n",
       "      <td>7</td>\n",
       "      <td>cosine</td>\n",
       "      <td>0</td>\n",
       "    </tr>\n",
       "    <tr>\n",
       "      <th>57</th>\n",
       "      <td>0.847923</td>\n",
       "      <td>1.074051</td>\n",
       "      <td>10</td>\n",
       "      <td>7</td>\n",
       "      <td>cosine</td>\n",
       "      <td>0</td>\n",
       "    </tr>\n",
       "    <tr>\n",
       "      <th>93</th>\n",
       "      <td>0.849282</td>\n",
       "      <td>1.072954</td>\n",
       "      <td>20</td>\n",
       "      <td>7</td>\n",
       "      <td>cosine</td>\n",
       "      <td>0</td>\n",
       "    </tr>\n",
       "  </tbody>\n",
       "</table>\n",
       "</div>"
      ],
      "text/plain": [
       "    mean_test_mae  mean_test_rmse  param_k  param_min_k sim_matric  \\\n",
       "21       0.864359        1.083793        5            7     cosine   \n",
       "57       0.847923        1.074051       10            7     cosine   \n",
       "93       0.849282        1.072954       20            7     cosine   \n",
       "\n",
       "    min_support  \n",
       "21            0  \n",
       "57            0  \n",
       "93            0  "
      ]
     },
     "execution_count": 129,
     "metadata": {},
     "output_type": "execute_result"
    }
   ],
   "source": [
    "plotdata_max_k = plotdata[plotdata.param_min_k == 7]\n",
    "plotdata_max_k = plotdata_max_k[plotdata_max_k.min_support == 0]\n",
    "plotdata_max_k = plotdata_max_k[plotdata_max_k.sim_matric == 'cosine']\n",
    "plotdata_max_k"
   ]
  },
  {
   "cell_type": "code",
   "execution_count": 132,
   "metadata": {
    "scrolled": true
   },
   "outputs": [
    {
     "data": {
      "image/png": "[encoded data removed]",
      "text/plain": [
       "<matplotlib.figure.Figure at 0x7f3d145ccb00>"
      ]
     },
     "metadata": {},
     "output_type": "display_data"
    }
   ],
   "source": [
    "plt.subplot(2, 1, 1) \n",
    "plt.plot(plotdata_max_k.param_k, plotdata_max_k.mean_test_mae, 'r')\n",
    "plt.subplot(2, 1, 2)\n",
    "plt.plot(plotdata_max_k.param_k, plotdata_max_k.mean_test_rmse, 'g')\n",
    "plt.show()"
   ]
  },
  {
   "cell_type": "code",
   "execution_count": 134,
   "metadata": {},
   "outputs": [
    {
     "data": {
      "text/html": [
       "<div>\n",
       "<style>\n",
       "    .dataframe thead tr:only-child th {\n",
       "        text-align: right;\n",
       "    }\n",
       "\n",
       "    .dataframe thead th {\n",
       "        text-align: left;\n",
       "    }\n",
       "\n",
       "    .dataframe tbody tr th {\n",
       "        vertical-align: top;\n",
       "    }\n",
       "</style>\n",
       "<table border=\"1\" class=\"dataframe\">\n",
       "  <thead>\n",
       "    <tr style=\"text-align: right;\">\n",
       "      <th></th>\n",
       "      <th>mean_test_mae</th>\n",
       "      <th>mean_test_rmse</th>\n",
       "      <th>param_k</th>\n",
       "      <th>param_min_k</th>\n",
       "      <th>sim_matric</th>\n",
       "      <th>min_support</th>\n",
       "    </tr>\n",
       "  </thead>\n",
       "  <tbody>\n",
       "    <tr>\n",
       "      <th>39</th>\n",
       "      <td>0.853892</td>\n",
       "      <td>1.083260</td>\n",
       "      <td>10</td>\n",
       "      <td>5</td>\n",
       "      <td>cosine</td>\n",
       "      <td>0</td>\n",
       "    </tr>\n",
       "    <tr>\n",
       "      <th>48</th>\n",
       "      <td>0.849898</td>\n",
       "      <td>1.076657</td>\n",
       "      <td>10</td>\n",
       "      <td>6</td>\n",
       "      <td>cosine</td>\n",
       "      <td>0</td>\n",
       "    </tr>\n",
       "    <tr>\n",
       "      <th>57</th>\n",
       "      <td>0.847923</td>\n",
       "      <td>1.074051</td>\n",
       "      <td>10</td>\n",
       "      <td>7</td>\n",
       "      <td>cosine</td>\n",
       "      <td>0</td>\n",
       "    </tr>\n",
       "    <tr>\n",
       "      <th>66</th>\n",
       "      <td>0.845878</td>\n",
       "      <td>1.071098</td>\n",
       "      <td>10</td>\n",
       "      <td>8</td>\n",
       "      <td>cosine</td>\n",
       "      <td>0</td>\n",
       "    </tr>\n",
       "  </tbody>\n",
       "</table>\n",
       "</div>"
      ],
      "text/plain": [
       "    mean_test_mae  mean_test_rmse  param_k  param_min_k sim_matric  \\\n",
       "39       0.853892        1.083260       10            5     cosine   \n",
       "48       0.849898        1.076657       10            6     cosine   \n",
       "57       0.847923        1.074051       10            7     cosine   \n",
       "66       0.845878        1.071098       10            8     cosine   \n",
       "\n",
       "    min_support  \n",
       "39            0  \n",
       "48            0  \n",
       "57            0  \n",
       "66            0  "
      ]
     },
     "execution_count": 134,
     "metadata": {},
     "output_type": "execute_result"
    }
   ],
   "source": [
    "plotdata_mink = plotdata[plotdata.sim_matric =='cosine']\n",
    "plotdata_mink = plotdata_mink[plotdata_mink.min_support == 0]\n",
    "plotdata_mink = plotdata_mink[plotdata_mink.param_k == 10]\n",
    "plotdata_mink"
   ]
  },
  {
   "cell_type": "code",
   "execution_count": 136,
   "metadata": {},
   "outputs": [
    {
     "data": {
      "image/png": "[encoded data removed]",
      "text/plain": [
       "<matplotlib.figure.Figure at 0x7f3d07f7cda0>"
      ]
     },
     "metadata": {},
     "output_type": "display_data"
    }
   ],
   "source": [
    "plt.subplot(2, 1, 1) \n",
    "plt.plot(plotdata_mink.param_min_k, plotdata_mink.mean_test_mae, 'r')\n",
    "plt.subplot(2, 1, 2)\n",
    "plt.plot(plotdata_mink.param_min_k, plotdata_mink.mean_test_rmse, 'g')\n",
    "plt.show()"
   ]
  },
  {
   "cell_type": "code",
   "execution_count": 137,
   "metadata": {},
   "outputs": [
    {
     "data": {
      "text/html": [
       "<div>\n",
       "<style>\n",
       "    .dataframe thead tr:only-child th {\n",
       "        text-align: right;\n",
       "    }\n",
       "\n",
       "    .dataframe thead th {\n",
       "        text-align: left;\n",
       "    }\n",
       "\n",
       "    .dataframe tbody tr th {\n",
       "        vertical-align: top;\n",
       "    }\n",
       "</style>\n",
       "<table border=\"1\" class=\"dataframe\">\n",
       "  <thead>\n",
       "    <tr style=\"text-align: right;\">\n",
       "      <th></th>\n",
       "      <th>mean_test_mae</th>\n",
       "      <th>mean_test_rmse</th>\n",
       "      <th>param_k</th>\n",
       "      <th>param_min_k</th>\n",
       "      <th>sim_matric</th>\n",
       "      <th>min_support</th>\n",
       "    </tr>\n",
       "  </thead>\n",
       "  <tbody>\n",
       "    <tr>\n",
       "      <th>54</th>\n",
       "      <td>0.840341</td>\n",
       "      <td>1.063863</td>\n",
       "      <td>10</td>\n",
       "      <td>7</td>\n",
       "      <td>msd</td>\n",
       "      <td>0</td>\n",
       "    </tr>\n",
       "    <tr>\n",
       "      <th>57</th>\n",
       "      <td>0.847923</td>\n",
       "      <td>1.074051</td>\n",
       "      <td>10</td>\n",
       "      <td>7</td>\n",
       "      <td>cosine</td>\n",
       "      <td>0</td>\n",
       "    </tr>\n",
       "    <tr>\n",
       "      <th>60</th>\n",
       "      <td>0.858387</td>\n",
       "      <td>1.080303</td>\n",
       "      <td>10</td>\n",
       "      <td>7</td>\n",
       "      <td>pearson</td>\n",
       "      <td>0</td>\n",
       "    </tr>\n",
       "  </tbody>\n",
       "</table>\n",
       "</div>"
      ],
      "text/plain": [
       "    mean_test_mae  mean_test_rmse  param_k  param_min_k sim_matric  \\\n",
       "54       0.840341        1.063863       10            7        msd   \n",
       "57       0.847923        1.074051       10            7     cosine   \n",
       "60       0.858387        1.080303       10            7    pearson   \n",
       "\n",
       "    min_support  \n",
       "54            0  \n",
       "57            0  \n",
       "60            0  "
      ]
     },
     "execution_count": 137,
     "metadata": {},
     "output_type": "execute_result"
    }
   ],
   "source": [
    "plotdata_sim = plotdata[plotdata.param_min_k == 7]\n",
    "plotdata_sim = plotdata_sim[plotdata_sim.min_support == 0]\n",
    "plotdata_sim = plotdata_sim[plotdata_sim.param_k == 10]\n",
    "plotdata_sim"
   ]
  },
  {
   "cell_type": "markdown",
   "metadata": {},
   "source": [
    "# Metrics - Coverage"
   ]
  },
  {
   "cell_type": "code",
   "execution_count": 165,
   "metadata": {},
   "outputs": [],
   "source": [
    "trainset, testset = train_test_split(sdt,test_size=0.2,random_state=20)"
   ]
  },
  {
   "cell_type": "code",
   "execution_count": 138,
   "metadata": {
    "collapsed": true
   },
   "outputs": [],
   "source": [
    "#Function to calculate coverage ratio\n",
    "def coverage_ratio(predictions, n):\n",
    "    top_n = get_top_n(predictions, n)\n",
    "    product_list = []\n",
    "    recommended_list = []\n",
    "    for uid, iid, true_r, est, _ in predictions:\n",
    "        product_list.append(iid)\n",
    "    for uid, user_ratings in top_n.items():\n",
    "        recommended_list.append(user_ratings[0][0])\n",
    "    coverage = float(len(set(recommended_list))) / float(len(set(product_list)))\n",
    "    return coverage"
   ]
  },
  {
   "cell_type": "code",
   "execution_count": 139,
   "metadata": {
    "collapsed": true
   },
   "outputs": [],
   "source": [
    "#Function to predict missing values based on an algorithm\n",
    "def mv_prediction(algo,missing_values):\n",
    "    predictions = [algo.predict(uid, iid)\n",
    "                       for (uid, iid) in missing_values]\n",
    "    return predictions"
   ]
  },
  {
   "cell_type": "markdown",
   "metadata": {},
   "source": [
    "Baseline Coverage Ratio"
   ]
  },
  {
   "cell_type": "code",
   "execution_count": 166,
   "metadata": {},
   "outputs": [
    {
     "data": {
      "text/plain": [
       "0.05"
      ]
     },
     "execution_count": 166,
     "metadata": {},
     "output_type": "execute_result"
    }
   ],
   "source": [
    "algo1.fit(trainset)\n",
    "mv_blprediction = mv_prediction(algo1,missing_values)\n",
    "coverage_ratio(mv_blprediction,7)"
   ]
  },
  {
   "cell_type": "markdown",
   "metadata": {},
   "source": [
    "SVD Coverage Ratio"
   ]
  },
  {
   "cell_type": "code",
   "execution_count": 161,
   "metadata": {},
   "outputs": [
    {
     "data": {
      "text/plain": [
       "<surprise.prediction_algorithms.matrix_factorization.SVD at 0x7f3d16611a90>"
      ]
     },
     "execution_count": 161,
     "metadata": {},
     "output_type": "execute_result"
    }
   ],
   "source": [
    "algo2.fit(trainset)"
   ]
  },
  {
   "cell_type": "code",
   "execution_count": 162,
   "metadata": {},
   "outputs": [
    {
     "data": {
      "text/plain": [
       "0.19"
      ]
     },
     "execution_count": 162,
     "metadata": {},
     "output_type": "execute_result"
    }
   ],
   "source": [
    "mv_svdprediction = mv_prediction(algo2,missing_values)\n",
    "coverage_ratio(mv_svdprediction,7)"
   ]
  },
  {
   "cell_type": "markdown",
   "metadata": {},
   "source": [
    "KNN Coverage ratio"
   ]
  },
  {
   "cell_type": "code",
   "execution_count": 164,
   "metadata": {},
   "outputs": [
    {
     "name": "stdout",
     "output_type": "stream",
     "text": [
      "Computing the cosine similarity matrix...\n",
      "Done computing similarity matrix.\n"
     ]
    },
    {
     "data": {
      "text/plain": [
       "0.21"
      ]
     },
     "execution_count": 164,
     "metadata": {},
     "output_type": "execute_result"
    }
   ],
   "source": [
    "knn_default.fit(trainset)\n",
    "mv_knnprediction = mv_prediction(knn_default,missing_values)\n",
    "coverage_ratio(mv_knnprediction,7)"
   ]
  },
  {
   "cell_type": "code",
   "execution_count": null,
   "metadata": {
    "collapsed": true
   },
   "outputs": [],
   "source": []
  }
 ],
 "metadata": {
  "kernelspec": {
   "display_name": "Python 3",
   "language": "python",
   "name": "python3"
  },
  "language_info": {
   "codemirror_mode": {
    "name": "ipython",
    "version": 3
   },
   "file_extension": ".py",
   "mimetype": "text/x-python",
   "name": "python",
   "nbconvert_exporter": "python",
   "pygments_lexer": "ipython3",
   "version": "3.6.3"
  }
 },
 "nbformat": 4,
 "nbformat_minor": 2
}
